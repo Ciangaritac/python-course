{
  "cells": [
    {
      "cell_type": "markdown",
      "metadata": {},
      "source": [
        "# Sesión 1 – Bloque 2: Tipos y Literales en Python\n",
        "\n",
        "**Curso:** Fundamentos de Programación y Analítica de Datos con Python  \n",
        "**Duración del bloque:** ~40–60 min  \n",
        "**Entorno:** Python 3.12.8 · VSCode · Jupyter Notebook  \n",
        "\n",
        "---\n",
        "\n",
        "## Objetivos del Bloque\n",
        "- Comprender los **tipos de datos** fundamentales en Python y sus **literales**.\n",
        "- Reconocer el modelo de **tipado dinámico y fuerte** de Python.\n",
        "- Utilizar correctamente `type()`, `isinstance()`, **mutabilidad**, **identidad** (`is`) y **igualdad** (`==`).\n",
        "- Aplicar **conversiones de tipo** y **buenas prácticas** para evitar errores comunes.\n",
        "- Preparar el terreno para estructuras de datos y analítica de datos en sesiones posteriores.\n",
        "\n",
        "> **Requisitos previos:** Entorno instalado (Python 3.12.8) y Jupyter operativo.\n"
      ]
    },
    {
      "cell_type": "markdown",
      "metadata": {},
      "source": [
        "## 1. Conceptos clave: tipos y literales\n",
        "\n",
        "**Definición (Tipos):** En Python, un **tipo** define el conjunto de valores y operaciones válidas para dichos valores. Ejemplos: `int`, `float`, `bool`, `str`, `bytes`, `NoneType`, entre otros.\n",
        "\n",
        "**Definición (Literal):** Un **literal** es una forma de escribir un valor directamente en el código fuente. Ejemplos: `42` (literal entero), `3.14` (literal flotante), `\"Hola\"` (literal string), `True`/`False` (literales booleanos), `None` (literal nulo).\n",
        "\n",
        "**Tipado en Python:**\n",
        "- **Dinámico:** el tipo se asocia al **objeto**, no a la variable; las variables pueden referenciar objetos de distintos tipos a lo largo del programa.\n",
        "- **Fuerte:** Python **no** convierte tipos de forma implícita cuando la operación no tiene sentido; hay que **convertir explícitamente**.\n",
        "\n",
        "**Mutabilidad e Identidad:**\n",
        "- **Mutables:** su contenido puede cambiar (e.g., `list`, `dict`, `set`, `bytearray`).\n",
        "- **Inmutables:** su contenido no cambia (e.g., `int`, `float`, `str`, `tuple`, `bytes`, `frozenset`).\n",
        "- **Identidad (`is`)** compara si dos referencias apuntan **al mismo objeto** en memoria.\n",
        "- **Igualdad (`==`)** compara si dos objetos tienen **el mismo valor**.\n",
        "\n",
        "**Funciones útiles:**\n",
        "- `type(obj)`: retorna el tipo del objeto.\n",
        "- `isinstance(obj, Tipo)`: verifica si `obj` es instancia de `Tipo` (admite herencia).\n",
        "\n",
        "**Documentación recomendada:**\n",
        "- *Built-in Types* (Python docs)\n",
        "- *Data Model* (Python docs)\n"
      ]
    },
    {
      "cell_type": "code",
      "execution_count": null,
      "metadata": {},
      "outputs": [
        {
          "name": "stdout",
          "output_type": "stream",
          "text": [
            "El tipo de a es: <class 'int'>\n",
            "¿a es igual a b?:  True\n",
            "Por identidad, ¿a is b?:  True\n",
            "¿a es igual a c?:  True\n",
            "Por identidad, ¿a is c?:  True\n",
            "Por identidad, ¿a is d?:  True\n"
          ]
        }
      ],
      "source": [
        "# Ejemplo: Tipo, igualdad e identidad\n",
        "a = 10\n",
        "b = 10\n",
        "c = int(\"10\")\n",
        "d = a\n",
        "\n",
        "print(\"El tipo de a es:\", type(a))\n",
        "print(\"¿a es igual a b?: \", a == b) # Igualdad de valor\n",
        "print(\"Por identidad, ¿a is b?: \", a is b) # Identidad\n",
        "print(\"¿a es igual a c?: \", a == c)\n",
        "print(\"Por identidad, ¿a is c?: \", a is c) # Identidad\n",
        "print(\"Por identidad, ¿a is d?: \", a is d) # Identidad"
      ]
    },
    {
      "cell_type": "markdown",
      "metadata": {},
      "source": [
        "## 2. Números: `int`, `float`, `complex`\n",
        "\n",
        "### 2.1 `int` (enteros de precisión arbitraria)\n",
        "- Soporta números grandes sin desbordamiento (limitado por memoria).\n",
        "- Literales: base 10 (`42`), binario (`0b101010`), octal (`0o52`), hexadecimal (`0x2A`).\n",
        "- Mejora de legibilidad: guiones bajos en literales (`1_000_000`).\n",
        "\n",
        "### 2.2 `float` (punto flotante, IEEE 754 doble precisión)\n",
        "- Aproximación binaria; puede causar **errores de precisión**.\n",
        "- Literales: `3.14`, `1.0`, notación científica (`1e-3`, `2.5E6`).\n",
        "- Comparaciones con `math.isclose()` cuando se esperan pequeñas diferencias.\n",
        "\n",
        "### 2.3 `complex` (números complejos)\n",
        "- Literal: `a + bj` (ej. `3+4j`).\n",
        "- Partes real e imaginaria: `.real`, `.imag`.\n",
        "\n",
        "> **Buenas prácticas:**  \n",
        "> - Usar `Decimal` (módulo `decimal`) o `Fraction` (módulo `fractions`) si se requiere **exactitud financiera** o racional.\n",
        "> - Usar `//` (división entera) vs `/` (división flotante) según el caso.\n"
      ]
    },
    {
      "cell_type": "code",
      "execution_count": null,
      "metadata": {},
      "outputs": [
        {
          "name": "stdout",
          "output_type": "stream",
          "text": [
            "1000000 10 255\n",
            "10 3\n",
            "x + y = 13\n",
            "x - y = 7\n",
            "x * y = 30\n",
            "x / y = 3.3333333333333335\n",
            "x // y = 3\n",
            "x % y = 1\n",
            "x ** y = 1000\n"
          ]
        }
      ],
      "source": [
        "# Ejemplos con enteros\n",
        "a = 1_000_000\n",
        "b = 0b1010\n",
        "c = 0xFF\n",
        "print(a, b, c)\n",
        "\n",
        "# Operaciones básicas\n",
        "x, y = 10, 3\n",
        "print(x, y)\n",
        "print(\"x + y =\", x + y)\n",
        "print(\"x - y =\", x - y)\n",
        "print(\"x * y =\", x * y)\n",
        "print(\"x / y =\", x / y)\n",
        "print(\"x // y =\", x // y)\n",
        "print(\"x % y =\", x % y)\n",
        "print(\"x ** y =\", x ** y)\n"
      ]
    },
    {
      "cell_type": "code",
      "execution_count": null,
      "metadata": {},
      "outputs": [
        {
          "name": "stdout",
          "output_type": "stream",
          "text": [
            "0.1 + 0.2 = 0.30000000000000004\n",
            "¿Es m igual a 0.3? False\n",
            "Usando math.isclose: True\n",
            "s:  0.001\n",
            "t:  2500000.0\n"
          ]
        }
      ],
      "source": [
        "# Ejemplos con flotantes y precisión\n",
        "import math\n",
        "\n",
        "m = 0.1 + 0.2\n",
        "print(\"0.1 + 0.2 =\", m )\n",
        "print(\"¿Es m igual a 0.3?\", m == 0.3)\n",
        "print(\"Usando math.isclose:\", math.isclose(m, 0.3))\n",
        "\n",
        "# Notación científica\n",
        "s, t = 1e-3, 2.5e6\n",
        "print(\"s: \", s)\n",
        "print(\"t: \", t)\n"
      ]
    },
    {
      "cell_type": "code",
      "execution_count": 31,
      "metadata": {},
      "outputs": [
        {
          "name": "stdout",
          "output_type": "stream",
          "text": [
            "Número complejo: (3+4j)\n",
            "Parte real: 3.0\n",
            "Parte imaginaria: 4.0\n",
            "Magnitud: 5.0\n",
            "Fase: 53.13010235415598\n",
            "Conjugado: (3-4j)\n"
          ]
        }
      ],
      "source": [
        "# Ejemplo con números complejos\n",
        "import cmath\n",
        "\n",
        "c = 3 + 4j\n",
        "print(\"Número complejo:\", c)\n",
        "print(\"Parte real:\", c.real)\n",
        "print(\"Parte imaginaria:\", c.imag)\n",
        "print(\"Magnitud:\", abs(c))\n",
        "print(\"Fase:\", cmath.phase(c)*180/cmath.pi)\n",
        "print(\"Conjugado:\", c.conjugate())"
      ]
    },
    {
      "cell_type": "code",
      "execution_count": null,
      "metadata": {},
      "outputs": [
        {
          "name": "stdout",
          "output_type": "stream",
          "text": [
            "El precio es: 19.99 y la cantidad es:  3\n",
            "Total: 59.97\n",
            "Total redondeado: 59.97\n"
          ]
        }
      ],
      "source": [
        "# Cuando se requiere exactitud decimal ( Finanzas )\n",
        "from decimal import Decimal, ROUND_HALF_EVEN\n",
        "\n",
        "precio = Decimal(\"19.99\")\n",
        "cantidad = Decimal(\"3\")\n",
        "total = precio * cantidad\n",
        "total_rounded = total.quantize(Decimal(\"0.01\"), rounding=ROUND_HALF_EVEN)\n",
        "\n",
        "print(\"El precio es:\", precio, \"y la cantidad es: \", cantidad)\n",
        "print(\"Total:\", total)\n",
        "print(\"Total redondeado:\", total_rounded)"
      ]
    },
    {
      "cell_type": "markdown",
      "metadata": {},
      "source": [
        "## 3. Booleanos y \"truthiness\"\n",
        "\n",
        "- `bool` tiene dos literales: `True`, `False`.  \n",
        "- En Python, muchos objetos tienen un valor de **verdad** (truthiness) cuando se evalúan en condicionales.\n",
        "\n",
        "**Falsos por convención:** `False`, `0`, `0.0`, `0j`, `''`, `b''`, `[]`, `{}`, `set()`, `range(0)`, `None`.  \n",
        "Todo lo demás suele evaluarse como `True`.\n",
        "\n",
        "> **Nota:** `bool` es técnicamente una subclase de `int` (por razones históricas), por lo que `True == 1` es `True`. Evite mezclar booleanos con aritmética para no introducir ambigüedades de lectura.\n"
      ]
    },
    {
      "cell_type": "code",
      "execution_count": null,
      "metadata": {},
      "outputs": [],
      "source": [
        "# TODO: Demostración de truthiness\n"
      ]
    },
    {
      "cell_type": "markdown",
      "metadata": {},
      "source": [
        "## 4. Cadenas de texto (`str`)\n",
        "\n",
        "- **Unicode** por defecto (soporta caracteres internacionales).\n",
        "- **Inmutables**: toda operación que modifica, retorna una **nueva** cadena.\n",
        "- Literales: comillas simples `'...'`, dobles `\"...\"`, o triples `'''...'''` / `\"\"\"...\"\"\"` para múltiples líneas.\n",
        "- **Escape**: `\\n`, `\\t`, `\\\"`, etc.\n",
        "- **Raw strings**: prefijo `r\"...\"` evita interpretar escapes (útil en rutas o expresiones regulares).\n",
        "- **f-strings**: formateo moderno y eficiente: `f\"Total: {total:.2f}\"`\n",
        "\n",
        "**Operaciones frecuentes:** indexación, *slicing*, `len()`, métodos (`.lower()`, `.upper()`, `.strip()`, `.replace()`, `.split()`, `.join()`).\n",
        "\n",
        "> **Buenas prácticas:** Usar **f-strings** para legibilidad y control de formato. Normalizar texto para comparaciones robustas (`.casefold()`).\n"
      ]
    },
    {
      "cell_type": "code",
      "execution_count": null,
      "metadata": {},
      "outputs": [],
      "source": [
        "# TODO: Literales y escapes\n"
      ]
    },
    {
      "cell_type": "code",
      "execution_count": null,
      "metadata": {},
      "outputs": [],
      "source": [
        "# TODO: Indexación, slicing y métodos\n"
      ]
    },
    {
      "cell_type": "code",
      "execution_count": null,
      "metadata": {},
      "outputs": [],
      "source": [
        "# TODO: f-strings y especificadores de formato\n"
      ]
    },
    {
      "cell_type": "markdown",
      "metadata": {},
      "source": [
        "## 5. Bytes y codificaciones (`bytes`, `bytearray`)\n",
        "\n",
        "- **`bytes`**: secuencia inmutable de valores entre 0–255. Útil para E/S, redes, archivos binarios.\n",
        "- **`bytearray`**: variante **mutable** de `bytes`.\n",
        "- Conversión con texto requiere **codificación** (`encode`/`decode`), típicamente **UTF-8**.\n",
        "\n",
        "> **Cuándo usarlos:** al leer/escribir binarios (imágenes, audio), sockets, procesar *payloads* o protocolos.\n"
      ]
    },
    {
      "cell_type": "code",
      "execution_count": 2,
      "metadata": {},
      "outputs": [],
      "source": [
        "# TODO: Texto <-> Bytes con UTF-8\n",
        "\n",
        "# TODO: Crear bytes desde hex\n"
      ]
    },
    {
      "cell_type": "markdown",
      "metadata": {},
      "source": [
        "## 6. `None` (ausencia de valor)\n",
        "\n",
        "- `None` representa la **ausencia de valor** o marcador nulo.\n",
        "- Tipo: `NoneType`.\n",
        "- Comparar con **`is`** (`if x is None:`), no con `==`.\n",
        "- Funciones que no retornan nada, retornan `None` implícitamente.\n"
      ]
    },
    {
      "cell_type": "code",
      "execution_count": null,
      "metadata": {},
      "outputs": [],
      "source": [
        "# TODO: Funciones sin retorno\n"
      ]
    },
    {
      "cell_type": "markdown",
      "metadata": {},
      "source": [
        "## 7. Literales de colecciones (vista rápida)\n",
        "\n",
        "- `list`: `[]` (mutable, ordenada)  \n",
        "- `tuple`: `()` (inmutable, ordenada)  \n",
        "- `dict`: `{clave: valor}` (mutable, mapeo)  \n",
        "- `set`: `{elem1, elem2}` (mutable, no ordenado, sin duplicados)  \n",
        "- **Vacíos:** `[]`, `()`, `{}` (¡ojo! `{}` es `dict`, **no** `set`), para conjunto vacío use `set()`.\n",
        "\n",
        "> Profundizaremos en colecciones en el siguiente bloque de la sesión.\n"
      ]
    },
    {
      "cell_type": "code",
      "execution_count": null,
      "metadata": {},
      "outputs": [],
      "source": [
        "# TODO: Crear y manipular listas, tuplas, diccionarios y conjuntos\n"
      ]
    },
    {
      "cell_type": "markdown",
      "metadata": {},
      "source": [
        "## 8. Conversión de tipos (casting explícito) y validación\n",
        "\n",
        "- Usar **constructores**: `int(\"10\")`, `float(\"3.14\")`, `str(123)`, `bytes(...)`.\n",
        "- Manejar excepciones (`ValueError`, `TypeError`) al convertir desde *strings*.\n",
        "- Evitar conversiones implícitas sorpresivas; preferir claridad y validación temprana.\n",
        "\n",
        "> **Patrón recomendado:** Funciones que validan y convierten, retornando tipos esperados o lanzando errores claros.\n"
      ]
    },
    {
      "cell_type": "code",
      "execution_count": null,
      "metadata": {},
      "outputs": [],
      "source": [
        "# TODO: Manejo de errores\n"
      ]
    },
    {
      "cell_type": "markdown",
      "metadata": {},
      "source": [
        "## 9. Buenas prácticas y errores comunes\n",
        "\n",
        "- Usar **f-strings** para formateo claro y eficiente: `f\"Total: {monto:.2f}\"`.\n",
        "- Evitar comparar flotantes con `==`; preferir `math.isclose` con tolerancias.\n",
        "- Distinguir `==` (valor) de `is` (identidad).\n",
        "- Para *strings*, normalizar (`strip`, `casefold`) antes de comparar.\n",
        "- Para dinero, usar `Decimal` con redondeo bancario (no `float`).\n",
        "- Usar guiones bajos en literales numéricos largos (`1_000_000`) para legibilidad.\n",
        "- Documentar funciones con **docstrings** y validar parámetros (fail-fast).\n"
      ]
    },
    {
      "cell_type": "markdown",
      "metadata": {},
      "source": [
        "---\n",
        "\n",
        "# 10. Ejercicios con contexto técnico\n",
        "\n",
        "> **Contexto:** Eres analista junior en un equipo de datos. Debes preparar insumos limpios y legibles para un reporte básico. Utiliza lo aprendido sobre **tipos**, **literales**, **cadenas**, **conversiones** y **buenas prácticas**.\n",
        "\n",
        "## Ejercicio 1 – Limpieza de campos numéricos\n",
        "Tienes una lista de precios capturados como cadenas:\n",
        "```python\n",
        "precios_raw = [\"1_299.90\", \"249.5\", \"  19.99\", \"0.99\", \"12\", \"NaN\", \"1e3\", \"3.14159\"]\n",
        "```\n",
        "1. Convierte los valores válidos a `float`.  \n",
        "2. Descarta los inválidos (`NaN` textual sin semántica numérica).  \n",
        "3. Calcula **promedio**, **mínimo** y **máximo** usando los valores válidos.  \n",
        "4. Presenta los resultados con **f-strings** y formato a 2 decimales.\n",
        "\n",
        "*Pista:* considera limpiar guiones bajos y espacios, y validar con `try/except` o funciones auxiliares.\n",
        "\n",
        "\n",
        "## Ejercicio 2 – Normalización de texto y *truthiness*\n",
        "Tienes posibles valores de entrada de usuario para una casilla de consentimiento:\n",
        "```python\n",
        "entradas = [\"Sí\", \"si\", \"  YES \", \"y\", \"True\", \"1\", \"no\", \"\", \"false\", \"0\", None]\n",
        "```\n",
        "1. Implementa `to_bool_consent(texto)` que devuelva `True` para afirmativos y `False` para negativos o valores vacíos/nulos.  \n",
        "2. Usa `.casefold()` y `.strip()` para normalización robusta.  \n",
        "3. Escribe pruebas con ejemplos positivos y negativos.\n",
        "\n",
        "\n",
        "## Ejercicio 3 – Reporte tabular con f-strings\n",
        "Dada la lista de productos:\n",
        "```python\n",
        "productos = [\n",
        "    {\"sku\": \"A001\", \"nombre\": \"Cuaderno\", \"precio\": 3.5, \"stock\": 120},\n",
        "    {\"sku\": \"A002\", \"nombre\": \"Lápiz\", \"precio\": 0.8, \"stock\": 350},\n",
        "    {\"sku\": \"A003\", \"nombre\": \"Mochila\", \"precio\": 24.99, \"stock\": 40},\n",
        "]\n",
        "```\n",
        "1. Imprime un reporte tabular con columnas alineadas (`sku`, `nombre`, `precio`, `stock`, `valor_inventario = precio * stock`).  \n",
        "2. Formatea `precio` y `valor_inventario` con 2 decimales y anchos fijos (alineación).\n",
        "\n",
        "\n",
        "## Ejercicio 4 – Bytes y codificación\n",
        "Recibes un *payload* en hexadecimal que representa texto UTF-8:\n",
        "```python\n",
        "hex_payload = \"50 79 74 68 6f 6e 20 33 2e 31 32\"\n",
        "```\n",
        "1. Convierte el hex a `bytes` y luego decódifícalo a `str`.  \n",
        "2. Vuelve a codificar el texto a `bytes` y muéstralo en hexadecimal.  \n",
        "3. Explica por qué la codificación es necesaria entre texto y bytes.\n",
        "\n",
        "\n",
        "## Ejercicio 5 – Validación robusta de enteros\n",
        "Escribe `to_int_safe(texto: str) -> int` (o reutiliza y mejora la versión anterior) que:\n",
        "- Permita signo opcional (`+`/`-`) y espacios alrededor.\n",
        "- Rechace cadenas con caracteres no numéricos o vacías.\n",
        "- Lance `ValueError` con un mensaje claro.\n",
        "- Incluye pruebas con entradas válidas/ inválidas.\n",
        "\n",
        "> **Entrega:** Completa cada ejercicio en celdas nuevas debajo. Incluye comentarios, docstrings y, cuando aplique, pequeñas pruebas con `assert` para verificar.\n"
      ]
    },
    {
      "cell_type": "code",
      "execution_count": null,
      "metadata": {},
      "outputs": [],
      "source": [
        "# === Ejercicio 1: tu solución aquí ===\n",
        "precios_raw = [\"1_299.90\", \"249.5\", \"  19.99\", \"0.99\", \"12\", \"NaN\", \"1e3\", \"3.14159\"]\n",
        "# TODO: implementar limpieza, conversión y cálculo de métricas\n"
      ]
    },
    {
      "cell_type": "code",
      "execution_count": null,
      "metadata": {},
      "outputs": [],
      "source": [
        "# === Ejercicio 2: tu solución aquí ===\n",
        "entradas = [\"Sí\", \"si\", \"  YES \", \"y\", \"True\", \"1\", \"no\", \"\", \"false\", \"0\", None]\n",
        "# TODO: implementar to_bool_consent y pruebas\n"
      ]
    },
    {
      "cell_type": "code",
      "execution_count": 3,
      "metadata": {},
      "outputs": [],
      "source": [
        "# === Ejercicio 3: tu solución aquí ===\n",
        "productos = [\n",
        "    {\"sku\": \"A001\", \"nombre\": \"Cuaderno\", \"precio\": 3.5, \"stock\": 120},\n",
        "    {\"sku\": \"A002\", \"nombre\": \"Lápiz\", \"precio\": 0.8, \"stock\": 350},\n",
        "    {\"sku\": \"A003\", \"nombre\": \"Mochila\", \"precio\": 24.99, \"stock\": 40},\n",
        "]\n",
        "# TODO: imprimir reporte tabular con f-strings\n"
      ]
    },
    {
      "cell_type": "code",
      "execution_count": null,
      "metadata": {},
      "outputs": [],
      "source": [
        "# === Ejercicio 4: tu solución aquí ===\n",
        "hex_payload = \"50 79 74 68 6f 6e 20 33 2e 31 32\"\n",
        "# TODO: convertir hex -> bytes -> str y viceversa\n"
      ]
    },
    {
      "cell_type": "code",
      "execution_count": null,
      "metadata": {},
      "outputs": [],
      "source": [
        "# === Ejercicio 5: tu solución aquí ===\n",
        "# TODO: re-implementar/mejorar to_int_safe y añadir pruebas\n"
      ]
    }
  ],
  "metadata": {
    "authors": [
      {
        "name": "Curso de Fundamentos de Programación y Analítica de Datos con Python"
      }
    ],
    "created": "2025-08-28T06:34:35.308633Z",
    "description": "Sesión 1 – Bloque 2: Tipos y Literales en Python (con teoría, ejemplos y ejercicios).",
    "kernelspec": {
      "display_name": "Python (python-course)",
      "language": "python",
      "name": "python-course"
    },
    "language_info": {
      "codemirror_mode": {
        "name": "ipython",
        "version": 3
      },
      "file_extension": ".py",
      "mimetype": "text/x-python",
      "name": "python",
      "nbconvert_exporter": "python",
      "pygments_lexer": "ipython3",
      "version": "3.12.8"
    }
  },
  "nbformat": 4,
  "nbformat_minor": 5
}
