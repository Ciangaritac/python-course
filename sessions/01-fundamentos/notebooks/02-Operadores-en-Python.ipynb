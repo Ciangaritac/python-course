{
  "cells": [
    {
      "cell_type": "markdown",
      "metadata": {},
      "source": [
        "# Operadores en Python\n",
        "\n",
        "**Curso:** “Fundamentos de Programación y Analítica de Datos con Python”  \n",
        "**Duración estimada del bloque:** 40–50 minutos\n",
        "\n",
        "## Objetivos específicos\n",
        "- Identificar y aplicar operadores aritméticos (`+`, `-`, `*`, `/`, `//`, `%`, `**`) sobre enteros y flotantes.\n",
        "- Emplear operadores de comparación (`==`, `!=`, `<`, `<=`, `>`, `>=`) para construir expresiones booleanas correctas.\n",
        "- Componer condiciones con operadores lógicos (`and`, `or`, `not`) aprovechando el _short-circuit_.\n",
        "- Usar operadores de asignación y compuestos (`=`, `+=`, `-=`, etc.) de forma segura y legible.\n",
        "- Diferenciar pertenencia e identidad (`in`, `is`) y aplicar cada uno en su contexto.\n",
        "\n",
        "## Prerrequisitos\n",
        "- Python instalado (3.12.8 o superior) y VSCode configurado con extensiones **Python** y **Jupyter**.\n",
        "- Conocimientos mínimos de tipos básicos: `int`, `float`, `str`, `bool`.\n"
      ]
    },
    {
      "cell_type": "markdown",
      "metadata": {},
      "source": [
        "----\n",
        "\n",
        "> **Nota:** Este notebook está diseñado para uso pedagógico universitario. Ejecuta cada celda en orden, lee los comentarios y experimenta modificando valores.\n"
      ]
    },
    {
      "cell_type": "markdown",
      "metadata": {},
      "source": [
        "## 1. Operadores aritméticos\n",
        "\n",
        "### Definición\n",
        "Conjunto de símbolos que permiten realizar operaciones numéricas sobre operandos: suma `+`, resta `-`, multiplicación `*`, división real `/`, división entera `//`, módulo `%` y potencia `**`.\n",
        "\n",
        "### Importancia en programación y analítica de datos\n",
        "Son la base para calcular métricas, transformar variables, crear _features_ numéricos y realizar agregaciones. La comprensión de la **división entera** y del **módulo** es clave en tareas de indexado, particionado y discretización.\n",
        "\n",
        "### Buenas prácticas y errores comunes\n",
        "- Preferir `/` para división real y `//` para obtener cociente entero explícitamente.\n",
        "- Evitar depender de precisión binaria de `float` en comparaciones exactas (usar tolerancias).\n",
        "- Documentar supuestos de dominio (p. ej., evitar división por cero).\n"
      ]
    },
    {
      "cell_type": "code",
      "execution_count": 1,
      "metadata": {},
      "outputs": [
        {
          "name": "stdout",
          "output_type": "stream",
          "text": [
            "suma: 13\n",
            "resta: 7\n",
            "producto: 30\n",
            "division_real: 3.3333333333333335\n",
            "division_entera: 3\n",
            "modulo: 1\n",
            "potencia: 1000\n",
            "0.1 + 0.2 = 0.30000000000000004 (no necesariamente 0.3 por representación binaria de float)\n"
          ]
        }
      ],
      "source": [
        "\n",
        "# Ejemplos aritméticos básicos\n",
        "a, b = 10, 3\n",
        "\n",
        "suma = a + b\n",
        "resta = a - b\n",
        "producto = a * b\n",
        "division_real = a / b       # 3.333...\n",
        "division_entera = a // b    # 3\n",
        "modulo = a % b              # 1\n",
        "potencia = a ** b           # 1000\n",
        "\n",
        "print(\"suma:\", suma)\n",
        "print(\"resta:\", resta)\n",
        "print(\"producto:\", producto)\n",
        "print(\"division_real:\", division_real)\n",
        "print(\"division_entera:\", division_entera)\n",
        "print(\"modulo:\", modulo)\n",
        "print(\"potencia:\", potencia)\n",
        "\n",
        "# Advertencia común: precisión de flotantes\n",
        "x = 0.1 + 0.2\n",
        "print(\"0.1 + 0.2 =\", x, \"(no necesariamente 0.3 por representación binaria de float)\")\n"
      ]
    },
    {
      "cell_type": "markdown",
      "metadata": {},
      "source": [
        "## 2. Operadores de comparación\n",
        "\n",
        "### Definición\n",
        "Evalúan la relación entre dos operandos y retornan un `bool`: `==`, `!=`, `<`, `<=`, `>`, `>=`. Python permite **comparaciones encadenadas** como `0 < x < 10`.\n",
        "\n",
        "### Importancia en programación y analítica de datos\n",
        "Se usan para filtrar datos, validar reglas y construir condiciones de control de flujo o _features_ categóricas.\n",
        "\n",
        "### Buenas prácticas y errores comunes\n",
        "- Para flotantes, preferir comparaciones con tolerancia (`abs(a - b) < tol`).\n",
        "- Aprovechar comparaciones encadenadas por legibilidad y menor repetición.\n"
      ]
    },
    {
      "cell_type": "code",
      "execution_count": 10,
      "metadata": {},
      "outputs": [],
      "source": [
        "\n",
        "# TODO: Ejemplo con Operadores de Comparación\n"
      ]
    },
    {
      "cell_type": "markdown",
      "metadata": {},
      "source": [
        "## 3. Operadores lógicos\n",
        "\n",
        "### Definición\n",
        "Permiten componer expresiones booleanas: `and`, `or`, `not`. Ejecutan **_short-circuit_** (cortocircuito): si el resultado se determina por el primer operando, no evalúan el segundo.\n",
        "\n",
        "### Importancia en programación y analítica de datos\n",
        "Indispensables para combinar reglas de validación, filtros múltiples y condiciones complejas en pipelines de datos.\n",
        "\n",
        "### Buenas prácticas y errores comunes\n",
        "- No confundir `and`/`or` con operadores bit a bit `&`/`|` (estos últimos operan a nivel de bits o sobre arrays/lógicas vectorizadas en librerías como NumPy).\n",
        "- Escribir condiciones claras y, si son largas, asignar subexpresiones a variables con nombres significativo.\n"
      ]
    },
    {
      "cell_type": "code",
      "execution_count": 11,
      "metadata": {},
      "outputs": [],
      "source": [
        "\n",
        "# TODO: Ejemplo con Operadores Lógicos\n"
      ]
    },
    {
      "cell_type": "markdown",
      "metadata": {},
      "source": [
        "## 4. Operadores de asignación (simples y compuestos)\n",
        "\n",
        "### Definición\n",
        "Asignan valores a variables: `=`. Versiones compuestas aplican una operación y reasignan en un paso: `+=`, `-=`, `*=`, `/=`, `//=`, `%=`, `**=`.\n",
        "\n",
        "### Importancia en programación y analítica de datos\n",
        "Favorecen expresiones más concisas y, en algunos tipos mutables, pueden optimizar rendimiento al reutilizar estructuras.\n",
        "\n",
        "### Buenas prácticas y errores comunes\n",
        "- Usar operadores compuestos para acumular contadores y agregaciones.\n",
        "- Ser consciente del comportamiento con tipos mutables (listas, arreglos) vs inmutables (enteros, cadenas).\n"
      ]
    },
    {
      "cell_type": "code",
      "execution_count": 12,
      "metadata": {},
      "outputs": [],
      "source": [
        "\n",
        "# TODO: Ejemplo con operadores de Asignación\n"
      ]
    },
    {
      "cell_type": "markdown",
      "metadata": {},
      "source": [
        "## 5. Operadores de pertenencia e identidad\n",
        "\n",
        "### Definición\n",
        "- **Pertenencia:** `in`, `not in` verifican si un elemento está contenido en una secuencia/colección.\n",
        "- **Identidad:** `is`, `is not` comparan si dos referencias apuntan al **mismo objeto** en memoria (no si son \"iguales\" en valor).\n",
        "\n",
        "### Importancia en programación y analítica de datos\n",
        "La pertenencia se usa para filtrar, buscar valores y validar catálogos. La identidad es útil al comprobar `None` u optimizaciones internas.\n",
        "\n",
        "### Buenas prácticas y errores comunes\n",
        "- Usar `is None` / `is not None` para chequear presencia de valor nulo.\n",
        "- Usar `==` para comparar valores y **no** `is`, salvo casos de identidad explícita.\n"
      ]
    },
    {
      "cell_type": "code",
      "execution_count": 13,
      "metadata": {},
      "outputs": [],
      "source": [
        "\n",
        "#TODO: Ejemplo con Operadores de Identidad y Pertenencia\n"
      ]
    },
    {
      "cell_type": "markdown",
      "metadata": {},
      "source": [
        "# Ejercicios integradores\n",
        "\n",
        "A continuación se plantean ejercicios que combinan **operadores aritméticos, de comparación, lógicos, de asignación y pertenencia/identidad**. Cada ejercicio incluye contexto, datos, requerimientos, criterios de aceptación y **pistas**. Las soluciones se muestran después de cada enunciado.\n"
      ]
    },
    {
      "cell_type": "markdown",
      "metadata": {},
      "source": [
        "## Ejercicio 1 — Control de calidad de métricas (p75)\n",
        "\n",
        "**Contexto técnico:** Eres analista de rendimiento. Debes validar si el `p75` de **LCP** (Largest Contentful Paint) cumple el objetivo de rendimiento establecido por el equipo (≤ 2.5 s).\n",
        "\n",
        "**Datos / entradas:** `lcp_p75 = 2.67` (segundos) y `objetivo = 2.5`.\n",
        "\n",
        "**Requerimientos:**\n",
        "- Determina si la métrica cumple el objetivo.\n",
        "- Calcula el porcentaje de sobrepaso (si aplica) usando operadores aritméticos.\n",
        "- Devuelve un mensaje legible con la conclusión.\n",
        "\n",
        "**Criterios de aceptación:**\n",
        "- Si `lcp_p75 <= objetivo`, imprimir `\"OK: LCP p75 dentro del objetivo\"`.\n",
        "- Si es mayor, imprimir `\"ALERTA: LCP p75 sobrepasa el objetivo por X%\"` con X redondeado a 1 decimal.\n",
        "\n",
        "**Pistas:** Utiliza operador de comparación y, si sobrepasa, el cálculo `(lcp_p75 - objetivo) / objetivo * 100`.\n"
      ]
    },
    {
      "cell_type": "code",
      "execution_count": 14,
      "metadata": {},
      "outputs": [],
      "source": [
        "\n",
        "# TODO: Ejercicio 1: Control de calidad de Métricas\n"
      ]
    },
    {
      "cell_type": "markdown",
      "metadata": {},
      "source": [
        "## Ejercicio 2 — Política de acceso\n",
        "\n",
        "**Contexto técnico:** Como parte de un sistema interno, se otorga acceso a reportes si la persona es **miembro activo** y **(ha pagado o tiene descuento vigente)**.\n",
        "\n",
        "**Datos / entradas:** `is_member=True`, `has_paid=False`, `has_discount=True`.\n",
        "\n",
        "**Requerimientos:**\n",
        "- Construye una condición booleana que determine `can_access`.\n",
        "- Imprime `\"Acceso permitido\"` o `\"Acceso denegado\"` según corresponda.\n",
        "\n",
        "**Criterios de aceptación:**\n",
        "- La variable `can_access` debe ser `True` solo si se cumple la política descrita.\n",
        "- Debes usar `and`/`or` y respetar el orden lógico.\n",
        "\n",
        "**Pistas:** Observa la composición `(has_paid or has_discount)` y el cortocircuito.\n"
      ]
    },
    {
      "cell_type": "code",
      "execution_count": 15,
      "metadata": {},
      "outputs": [],
      "source": [
        "\n",
        "# TODO: Ejercicio 2: Política de Acceso\n"
      ]
    },
    {
      "cell_type": "markdown",
      "metadata": {},
      "source": [
        "## Ejercicio 3 — Empaquetado de productos\n",
        "\n",
        "**Contexto técnico:** Debes calcular cuántas cajas completas puedes armar y cuántas unidades quedan sueltas.\n",
        "\n",
        "**Datos / entradas:** `unidades = 57`, `capacidad_caja = 12`.\n",
        "\n",
        "**Requerimientos:**\n",
        "- Calcula `cajas_completas` usando división entera.\n",
        "- Calcula `sobrantes` usando módulo.\n",
        "- Imprime un resumen con ambos resultados.\n",
        "\n",
        "**Criterios de aceptación:**\n",
        "- `cajas_completas` debe ser `4` y `sobrantes` debe ser `9`.\n",
        "- El mensaje debe ser claro y con unidades.\n",
        "\n",
        "**Pistas:** Usa `//` y `%`.\n"
      ]
    },
    {
      "cell_type": "code",
      "execution_count": 16,
      "metadata": {},
      "outputs": [],
      "source": [
        "# TODO: Ejercicio 3: Empaquetado de Productos\n"
      ]
    },
    {
      "cell_type": "markdown",
      "metadata": {},
      "source": [
        "## Ejercicio 4 — Validación de inputs\n",
        "\n",
        "**Contexto técnico:** En un formulario se captura la edad y la asistencia de un estudiante; se aprueba si `edad >= 18` **y** `asistencia >= 80`.\n",
        "\n",
        "**Datos / entradas:** `edad = 17`, `asistencia = 92`.\n",
        "\n",
        "**Requerimientos:**\n",
        "- Evalúa si cumple ambos criterios.\n",
        "- Imprime `\"Aprobado\"` o `\"No cumple criterios\"` según el resultado.\n",
        "- Ajusta los valores con operadores de asignación para simular **mejora** (suma 1 a la edad y resta 15 a la asistencia) y vuelve a evaluar.\n",
        "\n",
        "**Criterios de aceptación:**\n",
        "- La primera evaluación debe resultar en `\"No cumple criterios\"`.\n",
        "- Tras los ajustes, volver a evaluar y mostrar el resultado correspondiente.\n",
        "\n",
        "**Pistas:** Usa `>=`, `and`, y operadores compuestos `+=` / `-=`.\n"
      ]
    },
    {
      "cell_type": "code",
      "execution_count": 17,
      "metadata": {},
      "outputs": [],
      "source": [
        "# TODO: Ejercicio 4: Validacion de Inputs\n"
      ]
    }
  ],
  "metadata": {
    "authors": [
      {
        "name": "Jhon Erik Navarrete Gómez"
      },
      {
        "name": "Asistente IA (Coautor)"
      }
    ],
    "created": "2025-09-11T12:22:30+00:00",
    "description": "Bloque pedagógico sobre operadores fundamentales en Python para programación y analítica de datos. Incluye definiciones, importancia práctica, ejemplos comentados y ejercicios integradores.",
    "kernelspec": {
      "display_name": "Python (python-course)",
      "language": "python",
      "name": "python-course"
    },
    "language_info": {
      "codemirror_mode": {
        "name": "ipython",
        "version": 3
      },
      "file_extension": ".py",
      "mimetype": "text/x-python",
      "name": "python",
      "nbconvert_exporter": "python",
      "pygments_lexer": "ipython3",
      "version": "3.12.8"
    }
  },
  "nbformat": 4,
  "nbformat_minor": 5
}
