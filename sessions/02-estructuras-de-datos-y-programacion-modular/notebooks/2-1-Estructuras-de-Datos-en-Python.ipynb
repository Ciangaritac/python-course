{
  "cells": [
    {
      "cell_type": "markdown",
      "metadata": {},
      "source": [
        "# Bloque 1 — Estructuras de Datos en Python\n",
        "**Curso:** Fundamentos de Programación y Analítica de Datos con Python  \n",
        "**Duración estimada del bloque:** 2 horas\n",
        "\n",
        "## Objetivos específicos\n",
        "- Identificar y describir las características formales de listas, tuplas, diccionarios y conjuntos.\n",
        "- Manipular estructuras de datos nativas mediante operaciones básicas (inserción, eliminación, actualización, consulta).\n",
        "- Seleccionar la estructura de datos adecuada según el caso de uso (orden, mutabilidad, unicidad, acceso por clave).\n",
        "- Implementar ejemplos funcionales y pedagógicos que demuestren comprensión de los conceptos.\n",
        "- Reconocer errores comunes y aplicar buenas prácticas de uso en código Python.\n",
        "\n",
        "## Prerrequisitos\n",
        "- Conocimientos básicos de sintaxis de Python (variables, tipos primitivos, operaciones aritméticas y lógicas, `print`).\n",
        "- Entorno configurado con Python ≥ 3.11, preferiblemente 3.12.x, y Jupyter/VSCode.\n"
      ]
    },
    {
      "cell_type": "markdown",
      "metadata": {},
      "source": [
        "## Tema 1 — Listas (`list`)\n",
        "\n",
        "### Definición\n",
        "Una **lista** es una secuencia **ordenada** y **mutable** de elementos. Permite contener valores heterogéneos y soporta operaciones de inserción, eliminación, actualización y recorrido por índice.\n",
        "\n",
        "### Importancia en programación y analítica de datos\n",
        "- Estructura base para colecciones secuenciales, ideal para **acumular resultados**, **recorrer registros** y **aplicar transformaciones**.\n",
        "- Frecuente en ETL/ELT: lectura de filas, preprocesamiento y carga hacia estructuras tabulares (antes de Pandas).\n",
        "- Sirve como puente hacia estructuras de mayor nivel (p. ej., convertir listas de diccionarios a `DataFrame`).\n",
        "\n",
        "### Buenas prácticas y errores comunes\n",
        "- **Buenas prácticas:**\n",
        "  - Usar **comprensiones de listas** para transformaciones claras y concisas.\n",
        "  - Preferir **métodos específicos** (`append`, `extend`, `insert`, `remove`) para operaciones controladas.\n",
        "  - Documentar el **invariante** (qué tipo de elementos esperamos).\n",
        "- **Errores comunes:**\n",
        "  - Modificar una lista mientras se itera sobre ella (puede omitir elementos). En su lugar, crear una nueva lista filtrada.\n",
        "  - Usar `+` repetidamente en bucles grandes (coste acumulado). Considerar `extend` o comprensiones.\n"
      ]
    },
    {
      "cell_type": "code",
      "execution_count": null,
      "id": "60fe9cc2",
      "metadata": {},
      "outputs": [],
      "source": [
        "\n",
        "# TODO: Ejemplo de Listas"
      ]
    },
    {
      "cell_type": "markdown",
      "id": "9728c51c",
      "metadata": {},
      "source": [
        "## Tema 2 — Tuplas (`tuple`)\n",
        "\n",
        "### Definición\n",
        "Una **tupla** es una secuencia **ordenada** e **inmutable**. Tras su creación, sus elementos no pueden modificarse. Es adecuada para representar **registros** o **coordenadas** con estructura fija.\n",
        "\n",
        "### Importancia en programación y analítica de datos\n",
        "- Útiles para **empaquetar/desempaquetar** valores y para **claves** en estructuras como **diccionarios**.\n",
        "- Su inmutabilidad puede servir como **contrato**: indica que un conjunto de valores no cambiará.\n",
        "\n",
        "### Buenas prácticas y errores comunes\n",
        "- **Buenas prácticas:** usar tuplas para datos **posicionales** y de **longitud fija**; nombrar las variables al desempaquetar para claridad.\n",
        "- **Errores comunes:** forzar la tupla donde se requiere mutabilidad; en ese caso, una lista es más apropiada.\n"
      ]
    },
    {
      "cell_type": "code",
      "execution_count": null,
      "id": "353d74d9",
      "metadata": {},
      "outputs": [],
      "source": [
        "\n",
        "# TODO: Ejemplo de Tuplas"
      ]
    },
    {
      "cell_type": "markdown",
      "id": "aa6306f4",
      "metadata": {},
      "source": [
        "## Tema 3 — Diccionarios (`dict`)\n",
        "\n",
        "### Definición\n",
        "Un **diccionario** es una colección de **pares clave–valor**, no ordenada en versiones antiguas y de **inserción ordenada** desde Python 3.7+. Las claves deben ser **hashables** (inmutables o con un `__hash__` estable).\n",
        "\n",
        "### Importancia en programación y analítica de datos\n",
        "- Base para estructuras estilo **JSON** y para **configuración**.\n",
        "- Facilita accesos directos por clave y modelado de **registros** o **entidades**.\n",
        "\n",
        "### Buenas prácticas y errores comunes\n",
        "- **Buenas prácticas:** usar `get` con valores por defecto; `dict`/`update` para fusiones controladas; **comprensiones** para transformar.\n",
        "- **Errores comunes:** asumir la existencia de una clave sin validarla; usar claves mutables (p. ej., listas).\n"
      ]
    },
    {
      "cell_type": "code",
      "execution_count": null,
      "id": "798ec8be",
      "metadata": {},
      "outputs": [],
      "source": [
        "\n",
        "# TODO: Ejemplo de Diccionarios"
      ]
    },
    {
      "cell_type": "markdown",
      "id": "e617e6d6",
      "metadata": {},
      "source": [
        "## Tema 4 — Conjuntos (`set` y `frozenset`)\n",
        "\n",
        "### Definición\n",
        "Un **conjunto** es una colección **no ordenada** de elementos **únicos**. `set` es mutable y `frozenset` es inmutable (hashable).\n",
        "\n",
        "### Importancia en programación y analítica de datos\n",
        "- Eliminación de **duplicados**, operaciones de **teoría de conjuntos** (unión, intersección, diferencia).\n",
        "- Chequeos de pertenencia eficientes y deduplicación previa a análisis o uniones tabulares.\n",
        "\n",
        "### Buenas prácticas y errores comunes\n",
        "- **Buenas prácticas:** convertir listas a `set` para eliminar duplicados; usar operaciones de conjuntos para filtros rápidos.\n",
        "- **Errores comunes:** asumir orden o indexación; si se necesita orden estable, considerar `list(dict.fromkeys(seq))` para deduplicar preservando orden.\n"
      ]
    },
    {
      "cell_type": "code",
      "execution_count": null,
      "id": "c655ca78",
      "metadata": {},
      "outputs": [],
      "source": [
        "\n",
        "# TODO: Ejemplo de Conjuntos"
      ]
    },
    {
      "cell_type": "markdown",
      "id": "7aba8e6a",
      "metadata": {},
      "source": [
        "# Ejercicios Integradores\n",
        "\n",
        "A continuación, se presentan ejercicios que integran **listas, tuplas, diccionarios y conjuntos**. Cada ejercicio incluye contexto, datos/entradas, requerimientos, criterios de aceptación y pistas.\n"
      ]
    },
    {
      "cell_type": "markdown",
      "id": "d9e7dc2f",
      "metadata": {},
      "source": [
        "## Ejercicio 1 — Catálogo de productos único\n",
        "\n",
        "**Contexto técnico:** Eres parte de un equipo de analítica que necesita consolidar un catálogo de productos sin duplicados para preparar un análisis de ventas. Debes deduplicar códigos y preparar una estructura limpia para exportación.\n",
        "\n",
        "**Datos/entradas:**  \n",
        "- Lista de códigos con repetidos: `[\"A1\", \"B2\", \"A1\", \"C3\", \"B2\", \"D4\"]`  \n",
        "- Lista paralela de precios: `[100, 80, 100, 120, 80, 150]` (alineada por índice)\n",
        "\n",
        "**Requerimientos:**  \n",
        "1. Deduplicar los códigos preservando el primer precio visto.  \n",
        "2. Construir una lista de diccionarios con claves `codigo` y `precio`.  \n",
        "3. Calcular el conjunto de códigos únicos y su cardinalidad.\n",
        "\n",
        "**Criterios de aceptación:**  \n",
        "- La lista final no contiene repeticiones y mantiene el primer precio observado para cada código.  \n",
        "- El conteo de únicos coincide con el tamaño del conjunto.  \n",
        "\n",
        "**Pistas:**  \n",
        "- Considera `dict.fromkeys` para preservar orden sin duplicados o un bucle que acumule vistos.  \n",
        "- Puedes usar `zip` para iterar en paralelo.\n"
      ]
    },
    {
      "cell_type": "code",
      "execution_count": null,
      "id": "5000f225",
      "metadata": {},
      "outputs": [],
      "source": [
        "\n",
        "# TODO: Solución propuesta Ejercicio 1"
      ]
    },
    {
      "cell_type": "markdown",
      "id": "0a4a10c7",
      "metadata": {},
      "source": [
        "## Ejercicio 2 — Geolocalización con tuplas\n",
        "\n",
        "**Contexto técnico:** Te asignan normalizar ubicaciones capturadas por un sensor que devuelve pares `(lat, lon)`. Debes validar y transformar datos para un módulo de mapas.\n",
        "\n",
        "**Datos/entradas:**  \n",
        "- Lista de tuplas: `[(4.65, -74.05), (999, 20.0), (48.85, 2.35)]`\n",
        "\n",
        "**Requerimientos:**  \n",
        "1. Filtrar tuplas inválidas: latitud debe estar en [-90, 90], longitud en [-180, 180].  \n",
        "2. Construir un diccionario con claves `\"validas\"` y `\"invalidas\"` mapeando a listas de tuplas.  \n",
        "3. Obtener, a partir de las válidas, una lista de latitudes y otra de longitudes.\n",
        "\n",
        "**Criterios de aceptación:**  \n",
        "- Solo se consideran válidas las tuplas dentro de los rangos indicados.  \n",
        "- Las listas de latitudes/longitudes conservan el orden de aparición.\n",
        "\n",
        "**Pistas:**  \n",
        "- Usa **desempaquetado** de tuplas y condiciones lógicas.  \n",
        "- Considera comprensiones de listas para las proyecciones de lat/lon.\n"
      ]
    },
    {
      "cell_type": "code",
      "execution_count": null,
      "id": "54771737",
      "metadata": {},
      "outputs": [],
      "source": [
        "\n",
        "# TODO: Solución propuesta Ejercicio 2"
      ]
    },
    {
      "cell_type": "markdown",
      "id": "94bf7e42",
      "metadata": {},
      "source": [
        "## Ejercicio 3 — Panel mínimo de estudiantes\n",
        "\n",
        "**Contexto técnico:** Como analista académico, necesitas construir una estructura para un panel simple que consolide información de estudiantes y métricas derivadas para un reporte rápido.\n",
        "\n",
        "**Datos/entradas:**  \n",
        "- Lista de nombres: `[\"Ana\", \"Luis\", \"Marta\", \"Ana\"]`  \n",
        "- Lista de edades: `[21, 23, 22, 21]`\n",
        "\n",
        "**Requerimientos:**  \n",
        "1. Crear una lista de **diccionarios** con claves `nombre` y `edad`, preservando el orden.  \n",
        "2. Construir un **conjunto** de nombres únicos para dimensionar el universo.  \n",
        "3. Calcular la **edad promedio** y la **edad máxima**.\n",
        "\n",
        "**Criterios de aceptación:**  \n",
        "- La estructura por filas está alineada por índice correctamente.  \n",
        "- Los nombres únicos se calculan con `set` y corresponden con lo esperado.  \n",
        "- Las métricas se calculan con precisión (usar `round` si es necesario).\n",
        "\n",
        "**Pistas:**  \n",
        "- Usa `zip` y `dict` para normalizar filas.  \n",
        "- Considera `sum`/`len` para el promedio y `max` para el valor máximo.\n"
      ]
    },
    {
      "cell_type": "code",
      "execution_count": null,
      "id": "01f6be8c",
      "metadata": {},
      "outputs": [],
      "source": [
        "\n",
        "# TODO: Solución propuesta Ejercicio 3"
      ]
    },
    {
      "cell_type": "markdown",
      "id": "b680238c",
      "metadata": {},
      "source": [
        "## Ejercicio 4 — Normalización de etiquetas para un pipeline\n",
        "\n",
        "**Contexto técnico:** En un pipeline de clasificación de texto, recibes etiquetas ruidosas con repetidos y mayúsculas/minúsculas mezcladas. Necesitas normalizarlas para construir un vocabulario base.\n",
        "\n",
        "**Datos/entradas:**  \n",
        "- Lista de etiquetas: `[\"Spam\", \"spam\", \"Ham\", \"SPAM\", \"ham\", \"Spam\"]`\n",
        "\n",
        "**Requerimientos:**  \n",
        "1. Normalizar a minúsculas y deduplicar preservando el orden de primera aparición.  \n",
        "2. Construir un **diccionario** con:\n",
        "   - `\"vocabulario\"` → lista de etiquetas normalizadas únicas.\n",
        "   - `\"indice\"` → diccionario que mapea etiqueta → índice (posición en vocabulario).\n",
        "3. Validar pertenencia con un **conjunto** auxiliar para O(1) promedio.\n",
        "\n",
        "**Criterios de aceptación:**  \n",
        "- `vocabulario` queda como `[\"spam\", \"ham\"]`.  \n",
        "- `indice` debe ser `{\"spam\": 0, \"ham\": 1}`.\n",
        "\n",
        "**Pistas:**  \n",
        "- Considera `str.lower`, `dict.fromkeys` y comprensiones.  \n",
        "- El conjunto puede ayudar a verificar si ya has visto una etiqueta.\n"
      ]
    },
    {
      "cell_type": "code",
      "execution_count": null,
      "id": "49372969",
      "metadata": {},
      "outputs": [],
      "source": [
        "\n",
        "# TODO: Solución propuesta Ejercicio 4"
      ]
    }
  ],
  "metadata": {
    "authors": [
      {
        "name": "Equipo de Instrucción – Curso Fundamentos de Programación y Analítica de Datos con Python"
      }
    ],
    "created": "2025-09-16T10:48:56Z",
    "description": "Bloque 1: Estructuras de Datos en Python. Introducción formal a listas, tuplas, diccionarios y conjuntos, con énfasis en su importancia práctica para programación y analítica de datos.",
    "kernelspec": {
      "display_name": "Python 3",
      "name": "python3"
    },
    "language_info": {
      "name": "python",
      "version": "3.12.8"
    }
  },
  "nbformat": 4,
  "nbformat_minor": 5
}
