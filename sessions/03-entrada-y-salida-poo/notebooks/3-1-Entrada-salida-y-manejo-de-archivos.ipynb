{
 "cells": [
  {
   "cell_type": "markdown",
   "id": "c4dcfe0f",
   "metadata": {},
   "source": [
    "# Entrada, Salida y Manejo de Archivos\n",
    "\n",
    "**Curso:** Fundamentos de Programación y Analítica de Datos con Python  \n",
    "**Duración estimada del bloque:** 2 horas\n",
    "\n",
    "## Objetivos específicos\n",
    "- Implementar programas que capturen y validen entradas desde consola utilizando `input` y presenten resultados claros con `print`.\n",
    "- Persistir información en el sistema de archivos mediante `open`, modos de apertura y context managers (`with`).\n",
    "- Leer, escribir y procesar contenidos de archivos de texto de forma segura y eficiente.\n",
    "- Aplicar manejo de errores con `try`/`except`/`finally` para prevenir fallos y mejorar la robustez del programa.\n",
    "\n",
    "## Prerrequisitos\n",
    "- Sintaxis básica de Python (variables, tipos primitivos, operadores, control de flujo).\n",
    "- Ejecución de scripts en VSCode o terminal.\n"
   ]
  },
  {
   "cell_type": "markdown",
   "id": "09bf02e2",
   "metadata": {},
   "source": [
    "## Tema 1: Entrada/Salida estándar (input, print)\n",
    "\n",
    "### Definición\n",
    "La entrada/salida estándar en Python se realiza principalmente con `input()` para capturar datos desde el teclado y `print()` para mostrar información al usuario. `input()` siempre devuelve una cadena; por lo tanto, cuando se requieren números u otros tipos, se debe convertir explícitamente (por ejemplo, con `int()`, `float()` o `bool()` mediante lógica apropiada).\n",
    "\n",
    "### Importancia en programación y analítica de datos\n",
    "- Permite construir herramientas interactivas para recopilar parámetros (rutas de archivo, umbrales, nombres de columnas, etc.).\n",
    "- Facilita la depuración y trazabilidad al informar al usuario qué hace el programa y con qué datos opera.\n",
    "- En entornos de analítica, la capacidad de **validar** entradas y **formatear** salidas mejora la reproducibilidad y minimiza errores humanos.\n"
   ]
  },
  {
   "cell_type": "markdown",
   "id": "c9e36634",
   "metadata": {},
   "source": [
    "### Buenas prácticas profesionales y errores comunes\n",
    "- **Validar** y **sanitizar** entradas: convertir tipos y verificar rangos/formatos antes de usarlos.\n",
    "- Usar mensajes de `input()` **informativos** y `print()` **claros** (evitar ambigüedad).\n",
    "- Evitar depender en exceso de `input()` en scripts que luego se orquestarán automáticamente; preferir argumentos de línea de comandos cuando corra en pipelines.\n",
    "- **Errores comunes**: no convertir el tipo de `input()` (ej. sumar cadenas en lugar de números), no manejar entradas vacías o valores fuera de rango.\n"
   ]
  },
  {
   "cell_type": "code",
   "execution_count": null,
   "id": "b573a04a",
   "metadata": {},
   "outputs": [
    {
     "name": "stdout",
     "output_type": "stream",
     "text": [
      "Edad registrada: 12 años\n",
      "Valor convertido: 12.000\n"
     ]
    }
   ],
   "source": [
    "\n",
    "# TODO: Ejemplo captura, validación y formateo de salida"
   ]
  },
  {
   "cell_type": "markdown",
   "id": "f9703f8e",
   "metadata": {},
   "source": [
    "## Tema 2: Manejo de archivos\n",
    "\n",
    "### Definición\n",
    "El manejo de archivos en Python se realiza con la función `open(ruta, modo, encoding)`. Los modos más comunes son:\n",
    "- `\"r\"`: leer (falla si el archivo no existe).\n",
    "- `\"w\"`: escribir (crea o **sobrescribe** el archivo).\n",
    "- `\"a\"`: anexar al final.\n",
    "- `\"r+\"`: leer y escribir.\n",
    "Se recomienda abrir archivos con **context managers** (`with`) para asegurar el cierre automático, incluso ante excepciones. Para texto, especifique `encoding=\"utf-8\"` para evitar problemas de codificación.\n",
    " \n",
    "### Importancia en programación y analítica de datos\n",
    "- Permite **persistir** resultados, logs y configuraciones.\n",
    "- Es fundamental para ingestión y preprocesamiento de datasets (CSV, JSON, TXT).\n",
    "- Asegura reproducibilidad mediante el registro de parámetros y salidas intermedias de un pipeline.\n"
   ]
  },
  {
   "cell_type": "markdown",
   "id": "1f1d3939",
   "metadata": {},
   "source": [
    "### Buenas prácticas profesionales y errores comunes\n",
    "- Utilizar `with open(..., encoding=\"utf-8\") as f:` para cierre automático y codificación explícita.\n",
    "- Diferenciar lectura completa (`read()`), por líneas (`readline()`, `readlines()`), o iterando el archivo línea a línea (eficiente para archivos grandes).\n",
    "- Manejar rutas con `pathlib.Path` en lugar de concatenar cadenas.\n",
    "- **Errores comunes**: olvidar el `encoding`, usar `\"w\"` y sobrescribir accidentalmente datos, no cerrar archivos, leer archivos completos en memoria cuando son muy grandes.\n"
   ]
  },
  {
   "cell_type": "code",
   "execution_count": null,
   "id": "6802ab94",
   "metadata": {},
   "outputs": [],
   "source": [
    "\n",
    "# TODO: Ejemplo escritura, lectura y procesamiento línea a línea"
   ]
  },
  {
   "cell_type": "markdown",
   "id": "b83c30e9",
   "metadata": {},
   "source": [
    "## Tema 3: Manejo de errores con excepciones (aplicado a E/S)\n",
    "\n",
    "### Definición\n",
    "El manejo de excepciones utiliza `try`/`except`/`else`/`finally` para capturar y gestionar condiciones anómalas en tiempo de ejecución sin finalizar abruptamente el programa. `except` puede capturar excepciones específicas (p. ej., `FileNotFoundError`, `PermissionError`) o genéricas (no recomendado en producción).\n",
    "\n",
    "### Importancia en programación y analítica de datos\n",
    "- Incrementa la **robustez** de scripts que interactúan con archivos y usuarios.\n",
    "- Permite **degradación controlada** (ej., crear un archivo si no existe, pedir reintentos, registrar el error y continuar).\n",
    "- En pipelines de datos, evita que un error puntual inutilice todo el proceso y facilita el **logging** significativo.\n"
   ]
  },
  {
   "cell_type": "markdown",
   "id": "fcbaee8b",
   "metadata": {},
   "source": [
    "### Buenas prácticas profesionales y errores comunes\n",
    "- Capturar **excepciones específicas** primero y proporcionar mensajes de diagnóstico claros.\n",
    "- Usar `else` para el flujo cuando no hay excepción y `finally` para liberar recursos.\n",
    "- Registrar errores (`logging`) en lugar de solo imprimirlos, especialmente en scripts de producción.\n",
    "- **Errores comunes**: capturar todo con `except Exception:` sin diferenciar casos, silenciar errores sin informar, no reintentar cuando es razonable hacerlo.\n"
   ]
  },
  {
   "cell_type": "code",
   "execution_count": null,
   "id": "2cc5cd45",
   "metadata": {},
   "outputs": [],
   "source": [
    "\n",
    "# TODO: Ejemplo lectura robusta con manejo de errores y valores por defecto"
   ]
  },
  {
   "cell_type": "markdown",
   "id": "37e82423",
   "metadata": {},
   "source": [
    "# Ejercicios integradores\n",
    "\n",
    "A continuación se presentan ejercicios que integran **entrada/salida estándar**, **manejo de archivos** y **manejo de excepciones**. Cada ejercicio incluye contexto, datos/entradas, requerimientos, criterios de aceptación y pistas. Se incluye una celda de **solución** por cada ejercicio.\n"
   ]
  },
  {
   "cell_type": "markdown",
   "id": "d1ba3174",
   "metadata": {},
   "source": [
    "## Ejercicio 1: Registro de usuarios simple\n",
    "\n",
    "**Contexto técnico:** Eres responsable de un script que recolecta datos básicos de usuarios para un prototipo interno. El objetivo es persistir nombre y edad en un archivo para su posterior análisis. Se prioriza la validación de entradas para minimizar datos inválidos.\n",
    "\n",
    "**Datos/entradas:** El usuario ingresará `nombre` (texto) y `edad` (entero). El archivo de destino será `usuarios.txt` en el directorio actual.\n",
    "\n",
    "**Requerimientos:**\n",
    "1. Solicita el `nombre` y la `edad` usando `input()` y valida que `edad` sea entero positivo.\n",
    "2. Escribe una línea por usuario con el formato: `nombre,edad` en `usuarios.txt` (modo anexar).\n",
    "3. Tras registrar, muestra en consola el **total** de usuarios registrados (contando las líneas del archivo).\n",
    "\n",
    "**Criterios de aceptación:**\n",
    "- Si `edad` no es entero o es ≤ 0, volver a solicitar el dato.\n",
    "- El archivo `usuarios.txt` se crea si no existe.\n",
    "- La salida final muestra el total de líneas registradas.\n",
    "\n",
    "**Pistas:**\n",
    "- Utiliza `with open(..., \"a\", encoding=\"utf-8\")` para anexar.\n",
    "- Para contar líneas, itera el archivo en modo lectura o usa `read().splitlines()`.\n"
   ]
  },
  {
   "cell_type": "code",
   "execution_count": null,
   "id": "d37ebc2b",
   "metadata": {},
   "outputs": [],
   "source": [
    "\n",
    "# TODO: Solución ejercicio 1"
   ]
  },
  {
   "cell_type": "markdown",
   "id": "5d57011b",
   "metadata": {},
   "source": [
    "## Ejercicio 2: Promedios desde archivo con tolerancia a errores\n",
    "\n",
    "**Contexto técnico:** Debes procesar un archivo `notas.txt` con calificaciones (una por línea). Algunas líneas pueden contener valores inválidos por errores de captura. Se espera un cálculo robusto del promedio.\n",
    "\n",
    "**Datos/entradas:** Archivo `notas.txt` con valores numéricos (float) línea a línea. Puede contener líneas vacías o no numéricas.\n",
    "\n",
    "**Requerimientos:**\n",
    "1. Lee el archivo de forma segura. Si no existe, informa y crea uno de ejemplo con 5 valores.\n",
    "2. Ignora líneas no numéricas o vacías, pero **registra cuántas** fueron descartadas.\n",
    "3. Calcula y muestra el promedio con tres decimales y el conteo de válidos/descartados.\n",
    "\n",
    "**Criterios de aceptación:**\n",
    "- Si no hay valores válidos, informar claramente y no intentar dividir por cero.\n",
    "- La creación del archivo de ejemplo debe usar `encoding=\"utf-8\"`.\n",
    "- Mensajes claros para el usuario.\n",
    "\n",
    "**Pistas:**\n",
    "- Usa `try/except` alrededor de la conversión a `float`.\n",
    "- `Path.exists()` y `Path.write_text()` pueden ser útiles.\n"
   ]
  },
  {
   "cell_type": "code",
   "execution_count": null,
   "id": "86f440fd",
   "metadata": {},
   "outputs": [],
   "source": [
    "\n",
    "# TODO: Solución ejercicio 2"
   ]
  },
  {
   "cell_type": "markdown",
   "id": "c2343c54",
   "metadata": {},
   "source": [
    "## Ejercicio 3: Reporte de conteo de palabras\n",
    "\n",
    "**Contexto técnico:** Un equipo solicita un pequeño utilitario que, dado un archivo de texto, produzca un reporte con el conteo de palabras y de líneas, útil para análisis rápidos de logs o notas.\n",
    "\n",
    "**Datos/entradas:** Ruta de un archivo de texto solicitada por `input()`.\n",
    "\n",
    "**Requerimientos:**\n",
    "1. Solicitar la ruta del archivo y validar su existencia.\n",
    "2. Mostrar: número de líneas, número total de palabras, y las 5 palabras más frecuentes (ignorando mayúsculas/minúsculas y signos de puntuación simples).\n",
    "3. Si el archivo no existe o no puede leerse, informar con un mensaje claro.\n",
    "\n",
    "**Criterios de aceptación:**\n",
    "- El reporte debe imprimirse con formato claro.\n",
    "- En el top-5, mostrar también el conteo de cada palabra.\n",
    "- No fallar ante archivos vacíos.\n",
    "\n",
    "**Pistas:**\n",
    "- Usa `collections.Counter` y normaliza con `lower()`.\n",
    "- Para eliminar puntuación sencilla, reemplaza caracteres como `.,;:!?` por espacio o usa `str.translate`.\n"
   ]
  },
  {
   "cell_type": "code",
   "execution_count": null,
   "id": "b2657121",
   "metadata": {},
   "outputs": [],
   "source": [
    "\n",
    "# TODO: Solución ejercicio 3"
   ]
  },
  {
   "cell_type": "markdown",
   "id": "f9d85d5c",
   "metadata": {},
   "source": [
    "## Ejercicio 4: Copia segura con resumen\n",
    "\n",
    "**Contexto técnico:** Debes implementar una copia sencilla de archivos de texto dentro de un proceso más grande. El equipo exige un pequeño resumen al finalizar para auditoría.\n",
    "\n",
    "**Datos/entradas:** Solicitar `origen` y `destino` por `input()` (rutas).\n",
    "\n",
    "**Requerimientos:**\n",
    "1. Leer el archivo de `origen` y copiar su contenido a `destino` con `encoding=\"utf-8\"`.\n",
    "2. Si `destino` existe, preguntar si se debe sobrescribir (sí/no). Validar respuesta.\n",
    "3. Mostrar un resumen: bytes escritos, líneas copiadas, y confirmación de éxito.\n",
    "\n",
    "**Criterios de aceptación:**\n",
    "- No sobrescribir sin confirmación explícita del usuario.\n",
    "- Mensajes claros y manejo de excepciones (`FileNotFoundError`, `PermissionError`, `OSError`).\n",
    "\n",
    "**Pistas:**\n",
    "- Usa `Path.exists()` y `write_text`/`read_text` o lectura/escritura streaming.\n",
    "- Considera `len(texto.encode('utf-8'))` para bytes.\n"
   ]
  },
  {
   "cell_type": "code",
   "execution_count": null,
   "id": "1907f91c",
   "metadata": {},
   "outputs": [],
   "source": [
    "\n",
    "# TODO: Solución ejercicio 4"
   ]
  }
 ],
 "metadata": {
  "authors": [
   "Jhon Erik Navarrete Gómez",
   "Asistente del Curso (IA)"
  ],
  "created": "2025-09-16T12:23:19.542890",
  "description": "Bloque enfocado en la interacción por consola (entrada/salida), gestión de archivos (lectura y escritura), y robustez básica mediante manejo de excepciones.",
  "kernelspec": {
   "display_name": "Python (python-course)",
   "language": "python",
   "name": "python-course"
  },
  "language_info": {
   "codemirror_mode": {
    "name": "ipython",
    "version": 3
   },
   "file_extension": ".py",
   "mimetype": "text/x-python",
   "name": "python",
   "nbconvert_exporter": "python",
   "pygments_lexer": "ipython3",
   "version": "3.12.8"
  }
 },
 "nbformat": 4,
 "nbformat_minor": 5
}
