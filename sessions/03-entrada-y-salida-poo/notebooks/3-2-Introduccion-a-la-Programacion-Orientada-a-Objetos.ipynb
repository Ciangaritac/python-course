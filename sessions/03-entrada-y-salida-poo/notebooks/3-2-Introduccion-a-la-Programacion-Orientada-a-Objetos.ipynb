{
  "cells": [
    {
      "cell_type": "markdown",
      "metadata": {},
      "source": [
        "# Introducción a la Programación Orientada a Objetos\n",
        "\n",
        "**Curso:** Fundamentos de Programación y Analítica de Datos con Python  \n",
        "**Duración estimada del bloque:** 2 horas  \n",
        "**Autores:** Jhon Erik Navarrete Gómez  \n",
        "**Creado:** 2025-09-16T12:26:54+00:00\n",
        "\n",
        "## Objetivos específicos\n",
        "- Definir y explicar los conceptos de clase y objeto en Python, relacionándolos con problemas prácticos de software.\n",
        "- Implementar clases con atributos y métodos, utilizando `__init__` para la inicialización adecuada del estado.\n",
        "- Aplicar convenciones de encapsulamiento básico y documentar el comportamiento de los métodos.\n",
        "- Utilizar métodos especiales (`__repr__`, `__str__`) para mejorar la inspección y depuración de objetos.\n",
        "- Construir ejemplos funcionales que integren entrada/salida con POO para modelar entidades del dominio.\n",
        "\n",
        "## Prerrequisitos\n",
        "- Fundamentos de Python: tipos de datos, variables, control de flujo, funciones.\n",
        "- Elementos básicos de entrada/salida (input/print) y manejo de archivos.\n"
      ]
    },
    {
      "cell_type": "markdown",
      "metadata": {},
      "source": [
        "## Tema 1: Clases y Objetos\n",
        "\n",
        "### Definición\n",
        "Una **clase** es una plantilla que define la estructura y el comportamiento de un conjunto de objetos. Un **objeto** es una instancia concreta de una clase que posee **atributos** (estado) y **métodos** (comportamiento).\n",
        "\n",
        "### Importancia en programación y analítica de datos\n",
        "- Facilita el **modelado del dominio**: entidades como Estudiante, Sensor, Transacción o Dataset pueden representarse como clases.\n",
        "- Mejora **organización y mantenibilidad** en proyectos analíticos, donde se encapsulan transformaciones y validaciones.\n",
        "- Permite **reutilización** a través de instanciación de múltiples objetos con estados distintos.\n"
      ]
    },
    {
      "cell_type": "code",
      "execution_count": null,
      "metadata": {},
      "outputs": [],
      "source": [
        "\n",
        "# TODO: Ejemplo Clase Persona con estado y comportamiento básicos"
      ]
    },
    {
      "cell_type": "markdown",
      "metadata": {},
      "source": [
        "## Tema 2: Atributos y Métodos\n",
        "\n",
        "### Definición\n",
        "- **Atributos**: variables asociadas a un objeto (o a la clase) que almacenan su estado.\n",
        "- **Métodos**: funciones definidas dentro de una clase que describen su comportamiento.\n",
        "- `self` hace referencia a la instancia actual y permite acceder a sus atributos y métodos.\n",
        "\n",
        "### Importancia en programación y analítica de datos\n",
        "- Permiten **encapsular lógica** de transformación y validación (por ejemplo, limpieza de datos antes de calcular un indicador).\n",
        "- Habilitan **interfaces claras** para usar objetos en pipelines analíticos o simulaciones.\n"
      ]
    },
    {
      "cell_type": "code",
      "execution_count": null,
      "metadata": {},
      "outputs": [],
      "source": [
        "\n",
        "# TODO: Ejemplo Clase Estudiante con atributos y métodos para notas"
      ]
    },
    {
      "cell_type": "markdown",
      "metadata": {},
      "source": [
        "## Tema 3: Encapsulamiento básico y convenciones\n",
        "\n",
        "### Definición\n",
        "El **encapsulamiento** busca ocultar detalles internos y exponer una interfaz clara. En Python no hay modificadores de acceso estrictos; se emplean **convenciones**:\n",
        "- Prefijo `_atributo`: indica uso interno (convención de \"protegido\").\n",
        "- Doble prefijo `__atributo`: activa *name mangling* para evitar colisiones de nombre en herencia.\n",
        "\n",
        "### Importancia en programación y analítica de datos\n",
        "- Evita manipulación directa de estados internos sensibles (por ejemplo, una caché de datos sin validar).\n",
        "- Facilita contratos estables entre componentes y reduce errores por uso indebido.\n",
        "\n",
        "### Buenas prácticas y errores comunes\n",
        "- **Buenas prácticas**:\n",
        "  - Exponer métodos públicos claros y documentados.\n",
        "  - Validar entradas en métodos que modifican el estado.\n",
        "  - Proveer representaciones útiles (`__repr__`) para depuración y trazabilidad.\n",
        "- **Errores comunes**:\n",
        "  - Modificar atributos internos desde fuera de la clase sin control.\n",
        "  - No validar entradas, causando estados inconsistentes.\n"
      ]
    },
    {
      "cell_type": "code",
      "execution_count": null,
      "metadata": {},
      "outputs": [],
      "source": [
        "\n",
        "# TODO: Ejemplo Encapsulamiento por convención y métodos públicos controlados"
      ]
    },
    {
      "cell_type": "markdown",
      "metadata": {},
      "source": [
        "## Tema 4: Métodos especiales (`__init__`, `__repr__`, `__str__`)\n",
        "\n",
        "### Definición\n",
        "Los **métodos especiales** permiten integrar las clases con el ecosistema de Python.\n",
        "- `__init__`: inicializa el estado del objeto.\n",
        "- `__repr__`: representación sin ambigüedades para depuración; idealmente ejecutable o informativa para desarrolladores.\n",
        "- `__str__`: representación legible para usuarios finales.\n",
        "\n",
        "### Importancia en programación y analítica de datos\n",
        "- Mejora trazabilidad en notebooks y logs al imprimir objetos intermedios de un pipeline.\n",
        "- Facilita depuración de modelos y estructuras de datos personalizadas.\n"
      ]
    },
    {
      "cell_type": "code",
      "execution_count": null,
      "metadata": {},
      "outputs": [],
      "source": [
        "\n",
        "# TODO: Ejemplo Representaciones útiles para inspección y logging"
      ]
    },
    {
      "cell_type": "markdown",
      "metadata": {},
      "source": [
        "# Ejercicios integradores\n",
        "\n",
        "A continuación se presentan ejercicios que integran los conceptos de clases, objetos, atributos, métodos, encapsulamiento y métodos especiales. Cada ejercicio incluye contexto técnico, datos/entradas, requerimientos, criterios de aceptación y pistas. Tras cada enunciado se ofrece una **solución propuesta**.\n",
        "\n",
        "---\n",
        "\n",
        "## Ejercicio 1: Modelo de Lecturas de Sensores\n",
        "\n",
        "**Contexto técnico (2–4 líneas):**  \n",
        "Trabajas en un equipo que construye un pipeline de IoT para monitorear variables ambientales en una sala de servidores. Debes modelar un sensor que registre medidas con su categoría (ej. temperatura/humedad) y un valor numérico.\n",
        "\n",
        "**Datos/entradas:**  \n",
        "- ID de sensor entero, categoría en texto, valores flotantes.  \n",
        "- Crea 3 lecturas manualmente.\n",
        "\n",
        "**Requerimientos:**  \n",
        "- Implementar una clase `LecturaSensor` con atributos `id_sensor`, `categoria`, `valor`.  \n",
        "- Añadir un método `is_critica(umbral: float)` que devuelva `True` si `valor` supera el umbral.  \n",
        "- Implementar `__repr__` y `__str__` útiles.\n",
        "\n",
        "**Criterios de aceptación:**  \n",
        "- La llamada a `is_critica(umbral)` funciona correctamente con distintos umbrales.  \n",
        "- `print(objeto)` muestra una cadena útil para usuarios y `repr(objeto)` es informativa para desarrolladores.\n",
        "\n",
        "**Pistas:**  \n",
        "- Usar `__init__` para inicializar el estado.  \n",
        "- `__repr__` debería incluir nombres y valores de atributos.\n",
        "\n",
        "### Solución propuesta\n"
      ]
    },
    {
      "cell_type": "code",
      "execution_count": null,
      "metadata": {},
      "outputs": [],
      "source": [
        "\n",
        "# TODO: Solución 1"
      ]
    },
    {
      "cell_type": "markdown",
      "metadata": {},
      "source": [
        "---\n",
        "\n",
        "## Ejercicio 2: Cartera Simple con Control de Operaciones\n",
        "\n",
        "**Contexto técnico (2–4 líneas):**  \n",
        "Debes prototipar una **cartera** para registrar depósitos y retiros de un usuario. El estado no debe quedar inconsistente, y las operaciones deben validarse antes de aplicarse.\n",
        "\n",
        "**Datos/entradas:**  \n",
        "- Titular en texto, movimientos como números positivos.  \n",
        "- Secuencia de pruebas: depósito 200, retiro 50, retiro 300 (debe fallar).\n",
        "\n",
        "**Requerimientos:**  \n",
        "- Clase `Cartera` con atributo interno `_saldo`.  \n",
        "- Métodos `depositar(monto)` y `retirar(monto)` con validaciones.  \n",
        "- Método `__str__` que muestre el saldo vigente.\n",
        "\n",
        "**Criterios de aceptación:**  \n",
        "- Retiros no pueden exceder el saldo; lanzar excepción.  \n",
        "- El saldo final coincide con las operaciones válidas.\n",
        "\n",
        "**Pistas:**  \n",
        "- Reutiliza las ideas de encapsulamiento por convención (`_saldo`).  \n",
        "- Usa excepciones para los casos inválidos.\n",
        "\n",
        "### Solución propuesta\n"
      ]
    },
    {
      "cell_type": "code",
      "execution_count": null,
      "metadata": {},
      "outputs": [],
      "source": [
        "\n",
        "# TODO: Solución 2"
      ]
    },
    {
      "cell_type": "markdown",
      "metadata": {},
      "source": [
        "---\n",
        "\n",
        "## Ejercicio 3: Registro de Estudiantes con Cálculo de Promedio\n",
        "\n",
        "**Contexto técnico (2–4 líneas):**  \n",
        "Necesitas una estructura para gestionar estudiantes y sus calificaciones en un pequeño sistema académico. Requieres calcular el promedio y mostrar la información de manera clara.\n",
        "\n",
        "**Datos/entradas:**  \n",
        "- Crea 2 estudiantes con 3 notas cada uno (rango 0.0–5.0).\n",
        "\n",
        "**Requerimientos:**  \n",
        "- Clase `Estudiante` con `nombre` y `notas`.  \n",
        "- Métodos `agregar_nota(nota)` con validación y `promedio()`.  \n",
        "- `__repr__` para depurar y `__str__` para presentar resultados.\n",
        "\n",
        "**Criterios de aceptación:**  \n",
        "- Promedios correctos con redondeo a dos decimales.  \n",
        "- No se aceptan notas fuera del rango establecido.\n",
        "\n",
        "**Pistas:**  \n",
        "- Usa sumatorias y manejo de listas.  \n",
        "- Maneja excepciones con `try/except` al agregar notas inválidas.\n",
        "\n",
        "### Solución propuesta\n"
      ]
    },
    {
      "cell_type": "code",
      "execution_count": null,
      "metadata": {},
      "outputs": [],
      "source": [
        "\n",
        "# TODO: Solución 3"
      ]
    },
    {
      "cell_type": "markdown",
      "metadata": {},
      "source": [
        "---\n",
        "\n",
        "## Ejercicio 4 (opcional): Catálogo de Productos con Representación Clara\n",
        "\n",
        "**Contexto técnico (2–4 líneas):**  \n",
        "En un script de análisis de inventario, requieres objetos `Producto` que se impriman limpiamente en informes y logs, y que permitan calcular un valor total por cantidad.\n",
        "\n",
        "**Datos/entradas:**  \n",
        "- Crea 3 productos con `nombre`, `precio_unitario` y `cantidad`.\n",
        "\n",
        "**Requerimientos:**  \n",
        "- Clase `Producto` con `__repr__` y `__str__`.  \n",
        "- Método `valor_total()` que retorne `precio_unitario * cantidad`.\n",
        "\n",
        "**Criterios de aceptación:**  \n",
        "- Representaciones claras (desarrollador vs usuario).  \n",
        "- Cálculo correcto de valores totales.\n",
        "\n",
        "**Pistas:**  \n",
        "- Asegura tipos numéricos apropiados para precios y cantidades.\n",
        "- Formatea con dos decimales.\n",
        "\n",
        "### Solución propuesta\n"
      ]
    },
    {
      "cell_type": "code",
      "execution_count": null,
      "metadata": {},
      "outputs": [],
      "source": [
        "\n",
        "# TODO: Solución 4"
      ]
    }
  ],
  "metadata": {
    "authors": [
      "Jhon Erik Navarrete Gómez"
    ],
    "created": "2025-09-16T12:26:54+00:00",
    "description": "Bloque introductorio a la Programación Orientada a Objetos en Python. Se abordan clases, objetos, atributos, métodos, encapsulamiento básico y métodos especiales, con enfoque pedagógico y aplicado a analítica de datos.",
    "kernelspec": {
      "display_name": "Python 3",
      "language": "python",
      "name": "python3"
    },
    "language_info": {
      "name": "python",
      "version": "3.12.8"
    }
  },
  "nbformat": 4,
  "nbformat_minor": 5
}
